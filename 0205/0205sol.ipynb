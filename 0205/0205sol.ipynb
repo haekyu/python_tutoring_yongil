{
 "cells": [
  {
   "cell_type": "markdown",
   "metadata": {},
   "source": [
    "## 1. 기본 연산 연습 1\n",
    "\n",
    "- 어떤 자연수가 주어져있을 때 그것이 몇 자리 수인지 알아내기. <br>\n",
    "  예를 들어, x = 3 이면 1을, x = 2323 이면 4를 얻어 보세요.\n",
    "  \n",
    "- 힌트 1: 어떤 자연수를 string으로 변환하고 싶으면 str(<어떤 자연수>) 함수를 사용하면 됩니다.\n",
    "  + str(333) 이나 print(str(333) + '000') 을 한 번 해보세요!\n",
    "- 힌트 2: 아래 코드에서 ??? 안의 값을 채워도 됩니다.\n",
    "\n",
    "```\n",
    "x = 1234\n",
    "y = ???\n",
    "print(y)\n",
    "```"
   ]
  },
  {
   "cell_type": "code",
   "execution_count": 1,
   "metadata": {
    "collapsed": false
   },
   "outputs": [
    {
     "name": "stdout",
     "output_type": "stream",
     "text": [
      "4\n"
     ]
    }
   ],
   "source": [
    "x = 1234\n",
    "y = len(str(x))\n",
    "print(y)"
   ]
  },
  {
   "cell_type": "markdown",
   "metadata": {},
   "source": [
    "## 2. 기본 연산 연습 2\n",
    "\n",
    "- x라는 변수에 'abcdef'라는 string이 assign돼 있다고 했을 때, 'bcdefa' 라는 string을 얻어 보세요.\n",
    "- 힌트: 다음 코드에서 ??? 안의 값을 채워 됩니다.\n",
    "\n",
    "```\n",
    "x = 'abcdef'\n",
    "y = ???\n",
    "print(y)\n",
    "```"
   ]
  },
  {
   "cell_type": "code",
   "execution_count": 2,
   "metadata": {
    "collapsed": false
   },
   "outputs": [
    {
     "name": "stdout",
     "output_type": "stream",
     "text": [
      "bcdefa\n"
     ]
    }
   ],
   "source": [
    "x = 'abcdef'\n",
    "y = x[1: len(x)] + x[0]\n",
    "print(y)"
   ]
  },
  {
   "cell_type": "markdown",
   "metadata": {},
   "source": [
    "## 3. 기본 연산 연습 3\n",
    "\n",
    "- 년, 월, 일이 x, y, z로 주어졌을 때, yymmdd 형식을 갖는 년월일 String을 만들어 봅시다.\n",
    "- 예를 들면 2000년 1월 1일이 다음과 같이 주어져있다고 해봅시다. <br>\n",
    "  x = 2000 <br>\n",
    "  y = 1 <br>\n",
    "  z = 1 <br>\n",
    "  이 때 '000101'을 얻어 봅시다.\n",
    "- x = 1999 <br>\n",
    "  y = 12 <br>\n",
    "  z = 12 <br>\n",
    "  이면 '991212' 를 얻으시면 됩니다."
   ]
  },
  {
   "cell_type": "code",
   "execution_count": 3,
   "metadata": {
    "collapsed": false
   },
   "outputs": [
    {
     "name": "stdout",
     "output_type": "stream",
     "text": [
      "000101\n",
      "991212\n"
     ]
    }
   ],
   "source": [
    "def get_yymmdd(x, y, z):\n",
    "    yymmdd = '%02d%02d%02d' % (x % 100, y, z)\n",
    "    return yymmdd\n",
    "\n",
    "x = 2000\n",
    "y = 1\n",
    "z = 1\n",
    "print(get_yymmdd(x, y, z))\n",
    "\n",
    "x = 1999\n",
    "y = 12\n",
    "z = 12\n",
    "print(get_yymmdd(x, y, z))"
   ]
  },
  {
   "cell_type": "markdown",
   "metadata": {},
   "source": [
    "## 4. loop문 연습 1\n",
    "\n",
    "- 숫자로 구성된 리스트가 주어져 있을 때, 리스트 내 값들의 평균을 구해보기.<br>\n",
    "  예를 들어, lst = [1, -2, 5, 4, -3] 일 때 1을 프린트 해 보세요."
   ]
  },
  {
   "cell_type": "code",
   "execution_count": 5,
   "metadata": {
    "collapsed": false
   },
   "outputs": [
    {
     "name": "stdout",
     "output_type": "stream",
     "text": [
      "1.0\n"
     ]
    }
   ],
   "source": [
    "# Method 1\n",
    "lst = [1, -2, 5, 4, -3]\n",
    "\n",
    "sum_of_elements = 0 # lst 의 원소의 합이라는 뜻\n",
    "num_of_elements = 0 # lst 의 원소의 개수라는 뜻\n",
    "\n",
    "for e in lst:\n",
    "    sum_of_elements += e\n",
    "    num_of_elements += 1\n",
    "    \n",
    "avg_of_elements = sum_of_elements / num_of_elements\n",
    "\n",
    "print(avg_of_elements)\n"
   ]
  },
  {
   "cell_type": "code",
   "execution_count": 6,
   "metadata": {
    "collapsed": false
   },
   "outputs": [
    {
     "name": "stdout",
     "output_type": "stream",
     "text": [
      "1.0\n"
     ]
    }
   ],
   "source": [
    "# Method 2\n",
    "avg = sum(lst) / len(lst)\n",
    "print(avg)"
   ]
  },
  {
   "cell_type": "markdown",
   "metadata": {},
   "source": [
    "## 5. loop문 연습 2 - 별 출력하기\n",
    "\n",
    "아래 모양대로 출력을 해 보세요.\n",
    "```\n",
    "    **\n",
    "   ****\n",
    "  ******\n",
    " ********\n",
    "**********\n",
    " ********\n",
    "  ******\n",
    "   ****\n",
    "    **\n",
    "```"
   ]
  },
  {
   "cell_type": "code",
   "execution_count": 10,
   "metadata": {
    "collapsed": false
   },
   "outputs": [
    {
     "name": "stdout",
     "output_type": "stream",
     "text": [
      "    **\n",
      "   ****\n",
      "  ******\n",
      " ********\n",
      "**********\n",
      " ********\n",
      "  ******\n",
      "   ****\n",
      "    **\n"
     ]
    }
   ],
   "source": [
    "# Upper part\n",
    "for i in range(1, 6):\n",
    "    num_space = 5 - i\n",
    "    num_star = 2 * i\n",
    "    print(' ' * num_space + '*' * num_star)\n",
    "    \n",
    "# Bottom part\n",
    "for i in range(4, 0, -1):\n",
    "    num_space = 5 - i\n",
    "    num_star = 2 * i\n",
    "    print(' ' * num_space + '*' * num_star)"
   ]
  },
  {
   "cell_type": "markdown",
   "metadata": {},
   "source": [
    "## 6. loop문 연습 3\n",
    "\n",
    "구구단 출력하기.\n",
    "```\n",
    "1 * 1 = 1\n",
    "1 * 2 = 2\n",
    "....\n",
    "9 * 9 = 81\n",
    "```\n",
    "이 출력 되도록 해 보세요.\n",
    "\n",
    "- 힌트1) loop 문 안에 loop문이 들어갈 수 있습니다.\n",
    "- 힌트2) 숫자 a, b 를 a * b = c 의 형식으로 프린트하려면 <br>\n",
    "\t    \tprint('%d * %d = %d' % (a, b, c)) 로 쓰면 됩니다."
   ]
  },
  {
   "cell_type": "code",
   "execution_count": 11,
   "metadata": {
    "collapsed": false
   },
   "outputs": [
    {
     "name": "stdout",
     "output_type": "stream",
     "text": [
      "1 * 1 = 1\n",
      "1 * 2 = 2\n",
      "1 * 3 = 3\n",
      "1 * 4 = 4\n",
      "1 * 5 = 5\n",
      "1 * 6 = 6\n",
      "1 * 7 = 7\n",
      "1 * 8 = 8\n",
      "1 * 9 = 9\n",
      "2 * 1 = 2\n",
      "2 * 2 = 4\n",
      "2 * 3 = 6\n",
      "2 * 4 = 8\n",
      "2 * 5 = 10\n",
      "2 * 6 = 12\n",
      "2 * 7 = 14\n",
      "2 * 8 = 16\n",
      "2 * 9 = 18\n",
      "3 * 1 = 3\n",
      "3 * 2 = 6\n",
      "3 * 3 = 9\n",
      "3 * 4 = 12\n",
      "3 * 5 = 15\n",
      "3 * 6 = 18\n",
      "3 * 7 = 21\n",
      "3 * 8 = 24\n",
      "3 * 9 = 27\n",
      "4 * 1 = 4\n",
      "4 * 2 = 8\n",
      "4 * 3 = 12\n",
      "4 * 4 = 16\n",
      "4 * 5 = 20\n",
      "4 * 6 = 24\n",
      "4 * 7 = 28\n",
      "4 * 8 = 32\n",
      "4 * 9 = 36\n",
      "5 * 1 = 5\n",
      "5 * 2 = 10\n",
      "5 * 3 = 15\n",
      "5 * 4 = 20\n",
      "5 * 5 = 25\n",
      "5 * 6 = 30\n",
      "5 * 7 = 35\n",
      "5 * 8 = 40\n",
      "5 * 9 = 45\n",
      "6 * 1 = 6\n",
      "6 * 2 = 12\n",
      "6 * 3 = 18\n",
      "6 * 4 = 24\n",
      "6 * 5 = 30\n",
      "6 * 6 = 36\n",
      "6 * 7 = 42\n",
      "6 * 8 = 48\n",
      "6 * 9 = 54\n",
      "7 * 1 = 7\n",
      "7 * 2 = 14\n",
      "7 * 3 = 21\n",
      "7 * 4 = 28\n",
      "7 * 5 = 35\n",
      "7 * 6 = 42\n",
      "7 * 7 = 49\n",
      "7 * 8 = 56\n",
      "7 * 9 = 63\n",
      "8 * 1 = 8\n",
      "8 * 2 = 16\n",
      "8 * 3 = 24\n",
      "8 * 4 = 32\n",
      "8 * 5 = 40\n",
      "8 * 6 = 48\n",
      "8 * 7 = 56\n",
      "8 * 8 = 64\n",
      "8 * 9 = 72\n",
      "9 * 1 = 9\n",
      "9 * 2 = 18\n",
      "9 * 3 = 27\n",
      "9 * 4 = 36\n",
      "9 * 5 = 45\n",
      "9 * 6 = 54\n",
      "9 * 7 = 63\n",
      "9 * 8 = 72\n",
      "9 * 9 = 81\n"
     ]
    }
   ],
   "source": [
    "for a in range(1, 10):\n",
    "    for b in range(1, 10):\n",
    "        c = a * b\n",
    "        print('%d * %d = %d' % (a, b, c))"
   ]
  }
 ],
 "metadata": {
  "anaconda-cloud": {},
  "kernelspec": {
   "display_name": "Python [conda root]",
   "language": "python",
   "name": "conda-root-py"
  },
  "language_info": {
   "codemirror_mode": {
    "name": "ipython",
    "version": 3
   },
   "file_extension": ".py",
   "mimetype": "text/x-python",
   "name": "python",
   "nbconvert_exporter": "python",
   "pygments_lexer": "ipython3",
   "version": "3.5.2"
  }
 },
 "nbformat": 4,
 "nbformat_minor": 2
}
