{
 "cells": [
  {
   "cell_type": "markdown",
   "metadata": {},
   "source": [
    "## 1. List 연습\n",
    "어떤 자연수 n이 주어져 있을 때, n의 약수들을 모은 리스트를 리턴하는 함수를 만들어 보세요. <br>\n",
    "ex) n = 20 이면 [1, 2, 4, 5, 10, 20] 리턴."
   ]
  },
  {
   "cell_type": "code",
   "execution_count": 1,
   "metadata": {
    "collapsed": false
   },
   "outputs": [
    {
     "name": "stdout",
     "output_type": "stream",
     "text": [
      "[1, 2, 4, 5, 10, 20]\n"
     ]
    }
   ],
   "source": [
    "def get_factors(n):\n",
    "    factors = []\n",
    "    for i in range(1, n + 1):\n",
    "        if n % i == 0:\n",
    "            factors.append(i)\n",
    "    return factors\n",
    "\n",
    "factors_of_20 = get_factors(20)\n",
    "print(factors_of_20)"
   ]
  },
  {
   "cell_type": "markdown",
   "metadata": {},
   "source": [
    "## 2. Stack 만들기\n",
    "- Stack 이라는 자료구조를 class로 만들어 봅시다!\n",
    "- Stack 은 'First in, Last out'의 철학을 가진 특이한 형태의 list 입니다.\n",
    "- Stack의 attributes 는 다음과 같습니다.\n",
    "  - stack 이라는 list\n",
    "  - num 이라는 int\n",
    "- Stack 의 functions 는 다음과 같습니다.\n",
    "  - is_empty()\n",
    "    - Stack 이 비어있는지 그렇지 않은지를 return\n",
    "  - push(item)\n",
    "    - Stack에 원소 하나(item)를 넣습니다.\n",
    "  - pop()\n",
    "    - Stack에 원소 하나를 빼고, 그 원소를 리턴합니다.\n",
    "    - 'Last in, First out' 의 철학대로 가자 최근에 들어왔던 원소를 리턴함과 동시에 빼줍니다.\n",
    "- 다음과 같은 skeleton code 를 사용하셔도 됩니다.\n",
    "    ```\n",
    "    class Stack:\n",
    "      # Initializer\n",
    "      def ???(self):\n",
    "        # Attributes\n",
    "        self.stack = []\n",
    "        self.num = 0\n",
    "\n",
    "      # Functions\n",
    "      def is_empty(self):\n",
    "        # Return True if self.stack is empty\n",
    "        # Return False if self.stack is not empty\n",
    "        ?????\n",
    "\n",
    "      def push(self, item):\n",
    "        # Insert item into self.stack\n",
    "        ????\n",
    "\n",
    "      def pop(self):\n",
    "        # Pick up the lastly inserted item\n",
    "        last_item = ????\n",
    "\n",
    "        # Remove last_item from self.stack\n",
    "        ????\n",
    "\n",
    "        return last_item\n",
    "\n",
    "    ```\n"
   ]
  },
  {
   "cell_type": "code",
   "execution_count": 5,
   "metadata": {
    "collapsed": false
   },
   "outputs": [],
   "source": [
    "class Stack:\n",
    "    # Initializer\n",
    "    def __init__(self):\n",
    "        # Attributes\n",
    "        self.stack = []\n",
    "        self.num = 0\n",
    "        \n",
    "    # Functions\n",
    "    def is_empty(self):\n",
    "        # Return True if self.stack is empty\n",
    "        # Return False if self.stack is not empty\n",
    "        return self.num == 0\n",
    "    \n",
    "    def push(self, item):\n",
    "        # Insert item into self.stack\n",
    "        self.stack.append(item)\n",
    "        self.num += 1\n",
    "        \n",
    "    def pop(self):\n",
    "        # If stack is empty, return err msg\n",
    "        if self.is_empty():\n",
    "            print('Stack is empty')\n",
    "            return \"ERR:EMPTY_STACK\"\n",
    "        \n",
    "        # Pick up the lastly inserted item\n",
    "        last_item = self.stack[-1]\n",
    "\n",
    "        # Remove last_item from self.stack\n",
    "        del self.stack[-1]\n",
    "        self.num -= 1\n",
    "\n",
    "        return last_item"
   ]
  },
  {
   "cell_type": "code",
   "execution_count": 10,
   "metadata": {
    "collapsed": false
   },
   "outputs": [
    {
     "name": "stdout",
     "output_type": "stream",
     "text": [
      "after push, ['Remember', 'Me', 'Though']\n",
      "Though\n",
      "Me\n",
      "Remember\n",
      "Stack is empty\n",
      "ERR:EMPTY_STACK\n"
     ]
    }
   ],
   "source": [
    "stack = Stack()\n",
    "stack.push(\"Remember\")\n",
    "stack.push(\"Me\")\n",
    "stack.push(\"Though\")\n",
    "\n",
    "print(\"after push,\", stack.stack)\n",
    "\n",
    "print(stack.pop())\n",
    "print(stack.pop())\n",
    "print(stack.pop())\n",
    "print(stack.pop())"
   ]
  },
  {
   "cell_type": "markdown",
   "metadata": {},
   "source": [
    "## 3. Queue 만들기\n",
    "- Queue 라는 자료구조를 class로 만들어 봅시다!\n",
    "- Queue 은 'First in, first out'의 철학을 가진 특이한 형태의 list 입니다.\n",
    "- Queue의 attributes 는 다음과 같습니다.\n",
    "  - queue 라는 list\n",
    "  - num 이라는 int\n",
    "- Queue 의 functions 는 다음과 같습니다.\n",
    "  - is_empty()\n",
    "    - queue 가 비어있는지 그렇지 않은지를 return\n",
    "  - enqueue(item)\n",
    "    - queue 에 원소 하나(item)를 넣습니다.\n",
    "  - dequeue()\n",
    "    - queue에 원소 하나를 빼고, 그 원소를 리턴합니다.\n",
    "    - 'First in, First out' 의 철학대로 가자 처음에 들어왔던 원소를 리턴함과 동시에 빼줍니다."
   ]
  },
  {
   "cell_type": "code",
   "execution_count": 13,
   "metadata": {
    "collapsed": true
   },
   "outputs": [],
   "source": [
    "class Queue:\n",
    "    def __init__(self):\n",
    "        self.queue = []\n",
    "        self.num = 0\n",
    "    \n",
    "    def is_empty(self):\n",
    "        return self.num == 0\n",
    "    \n",
    "    def enqueue(self, item):\n",
    "        self.queue.append(item)\n",
    "        self.num += 1\n",
    "        \n",
    "    def dequeue(self):\n",
    "        if self.is_empty():\n",
    "            print('Queue is empty.')\n",
    "            return \"ERR:EMPTY_QUEUE\"\n",
    "        \n",
    "        first_item = self.queue[0]\n",
    "        del self.queue[0]\n",
    "        self.num -= 1\n",
    "        \n",
    "        return first_item"
   ]
  },
  {
   "cell_type": "code",
   "execution_count": 15,
   "metadata": {
    "collapsed": false
   },
   "outputs": [
    {
     "name": "stdout",
     "output_type": "stream",
     "text": [
      "After enqueue, ['Remember', 'Me', 'Though']\n",
      "Remember\n",
      "Me\n",
      "Though\n",
      "Queue is empty.\n",
      "ERR:EMPTY_QUEUE\n"
     ]
    }
   ],
   "source": [
    "queue = Queue()\n",
    "queue.enqueue(\"Remember\")\n",
    "queue.enqueue(\"Me\")\n",
    "queue.enqueue(\"Though\")\n",
    "print(\"After enqueue,\", queue.queue)\n",
    "\n",
    "print(queue.dequeue())\n",
    "print(queue.dequeue())\n",
    "print(queue.dequeue())\n",
    "print(queue.dequeue())"
   ]
  },
  {
   "cell_type": "markdown",
   "metadata": {},
   "source": [
    "## 4. Insertion sort 짜기\n",
    "- input: unsorted list\n",
    "- output: sorted list\n",
    "\n",
    "아래 skeleton code를 사용해도 됩니다.\n",
    "```\n",
    "def insertion_sort(lst):\n",
    "    for rnd in range(0, len(lst)):\n",
    "        # Current rnd (round) 에서는\n",
    "        # - lst[0: rnd] 가 현재로서는 sorted array이고\n",
    "        # - lst[0: rnd + 1] 을 sorted array로 만들 예정이다.\n",
    "        \n",
    "        # sorted array에 새로 insert 할 target\n",
    "        target_to_put_in = lst[rnd]\n",
    "        \n",
    "        # target_to_put_in 을 lst[0: rnd] 안에 잘 넣는다.\n",
    "        # target을 앞 원소부터 비교해가며, 삽입할 위치를 찾는다.\n",
    "        for j in range(0, rnd):\n",
    "            if lst[j] > target_to_put_in:\n",
    "                ????\n",
    "        \n",
    "        # target_to_put_in 을 적절한 위치에 넣는다.\n",
    "        ????\n",
    "```"
   ]
  },
  {
   "cell_type": "code",
   "execution_count": 27,
   "metadata": {
    "collapsed": false
   },
   "outputs": [],
   "source": [
    "def insertion_sort(lst):\n",
    "    for rnd in range(0, len(lst)):\n",
    "        # Current rnd (round) 에서는\n",
    "        # - lst[0: rnd] 가 현재로서는 sorted array이고\n",
    "        # - lst[0: rnd + 1] 을 sorted array로 만들 예정이다.\n",
    "\n",
    "        # sorted array에 새로 insert 할 target\n",
    "        target_to_put_in = lst[rnd]\n",
    "\n",
    "        # target_to_put_in 을 lst[0: rnd] 안에 잘 넣는다.\n",
    "        # target을 앞 원소부터 비교해가며, 삽입할 위치를 찾는다.\n",
    "        insert_idx = rnd\n",
    "        for j in range(0, rnd):\n",
    "            if lst[j] > target_to_put_in:\n",
    "                insert_idx = j\n",
    "                break\n",
    "\n",
    "        # target_to_put_in 을 적절한 위치에 넣는다.\n",
    "        lst.insert(insert_idx, target_to_put_in)\n",
    "        del lst[rnd + 1]\n",
    "        \n",
    "    return lst"
   ]
  },
  {
   "cell_type": "code",
   "execution_count": 28,
   "metadata": {
    "collapsed": false
   },
   "outputs": [
    {
     "name": "stdout",
     "output_type": "stream",
     "text": [
      "[0, 1, 1, 2, 2, 3, 5, 6]\n"
     ]
    }
   ],
   "source": [
    "lst = [5, 1, 2, 6, 2, 1, 3, 0]\n",
    "sorted_lst = insertion_sort(lst)\n",
    "print(sorted_lst)"
   ]
  },
  {
   "cell_type": "markdown",
   "metadata": {},
   "source": [
    "## 5. 파일 출력 연습\n",
    "어떠한 리스트를 csv (comma-separated values) 포맷으로 텍스트파일에 저장해보세요. <br>\n",
    "\n",
    "예)<br>\n",
    "`[[1, 2, 3, 5], [3, 5, 2, 1], [5, 3, 1, 5]]` <br>\n",
    "라는 리스트가 주어져 있으면 <br>\n",
    "1,2,3,5 <br>\n",
    "3,5,2,1 <br>\n",
    "5,3,1,5 <br>\n",
    "로 텍스트파일(파일 이름 맘대로)에 저장해 보세요. <br>"
   ]
  },
  {
   "cell_type": "code",
   "execution_count": 30,
   "metadata": {
    "collapsed": false
   },
   "outputs": [],
   "source": [
    "import numpy as np\n",
    "\n",
    "lst = [[1, 2, 3, 5], [3, 5, 2, 1], [5, 3, 1, 5]]\n",
    "\n",
    "f = open('./mat.csv', 'w')\n",
    "\n",
    "for row_vector in lst:\n",
    "    for th, e in enumerate(row_vector):\n",
    "        if th == 0:\n",
    "            f.write(str(e))\n",
    "        else:\n",
    "            f.write(\",%d\" % e)\n",
    "    f.write('\\n')\n",
    "\n",
    "f.close()   "
   ]
  },
  {
   "cell_type": "code",
   "execution_count": null,
   "metadata": {
    "collapsed": true
   },
   "outputs": [],
   "source": []
  }
 ],
 "metadata": {
  "anaconda-cloud": {},
  "kernelspec": {
   "display_name": "Python [conda root]",
   "language": "python",
   "name": "conda-root-py"
  },
  "language_info": {
   "codemirror_mode": {
    "name": "ipython",
    "version": 3
   },
   "file_extension": ".py",
   "mimetype": "text/x-python",
   "name": "python",
   "nbconvert_exporter": "python",
   "pygments_lexer": "ipython3",
   "version": "3.5.2"
  }
 },
 "nbformat": 4,
 "nbformat_minor": 2
}
