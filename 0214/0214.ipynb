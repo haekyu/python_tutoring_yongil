{
 "cells": [
  {
   "cell_type": "markdown",
   "metadata": {},
   "source": [
    "## Overview\n",
    "- 복습 / 추가\n",
    "    - 파일 읽기 / 쓰기 :with 문\n",
    "    - 리스트 추가\n",
    "- 재귀함수\n",
    "- class"
   ]
  },
  {
   "cell_type": "markdown",
   "metadata": {},
   "source": [
    "## With문\n",
    "- 파일 객체 (f) 를 만드는 방법\n",
    "- f = open() + f.close()\n",
    "    ```\n",
    "\twith open(파일이름, 모드) as f:\n",
    "\t\tahklsjdf\n",
    "\t\taslhdkfjasd\n",
    "    ```"
   ]
  },
  {
   "cell_type": "code",
   "execution_count": 5,
   "metadata": {
    "collapsed": false
   },
   "outputs": [
    {
     "name": "stdout",
     "output_type": "stream",
     "text": [
      "readline() 사용\n",
      "Remember me\n",
      "\n",
      "Though I have to say goodbye\n",
      "\n",
      "readlines() 사용\n",
      "['Remember me\\n', 'Though I have to say goodbye']\n"
     ]
    }
   ],
   "source": [
    "# readline()\n",
    "print('readline() 사용')\n",
    "with open('./coco.txt', 'r') as f:\n",
    "    while True:\n",
    "        line = f.readline()\n",
    "        print(line)\n",
    "        if line == \"\":\n",
    "            break\n",
    "\n",
    "# readlines()\n",
    "print('readlines() 사용')\n",
    "with open('./coco.txt', 'r') as f:\n",
    "    lines = f.readlines()\n",
    "print(lines)"
   ]
  },
  {
   "cell_type": "markdown",
   "metadata": {},
   "source": [
    "## List\n",
    "- 원소 추가\n",
    "\t- `lst.insert(idx, val)`\n",
    "\t- `lst.append(val)`\n",
    "- 원소 삭제\n",
    "\t- `del lst[idx]`\n",
    "\t- `del lst[from: to]`"
   ]
  },
  {
   "cell_type": "markdown",
   "metadata": {},
   "source": [
    "## 재귀 함수 (recursive function)\n",
    "- 함수 를 정의하기 위해 자기 자신을 사용해야 하는 함수\n",
    "- fib(n) = fib(n - 1) + fib(n - 2)\n",
    "- n! <br>\n",
    "  = n \\* (n - 1) \\* ... \\* 1 <br>\n",
    "  = n \\* (n - 1)! \n",
    "- 단점: 잘못짜면 엄청 느림\n",
    "\t- 원인: 반복 계산이 많아서\n",
    "\t- 해결: 반복 계산 줄이면 됨\n",
    "\t\t- dynamic programming\n",
    "\t\t- tail recursion"
   ]
  },
  {
   "cell_type": "code",
   "execution_count": 8,
   "metadata": {
    "collapsed": false
   },
   "outputs": [
    {
     "name": "stdout",
     "output_type": "stream",
     "text": [
      "3628800\n"
     ]
    }
   ],
   "source": [
    "def fac(n):\n",
    "    if n == 0:\n",
    "        # initial condition\n",
    "        return 1\n",
    "    else:\n",
    "        # recursion\n",
    "        return n * fac(n - 1)\n",
    "\n",
    "\n",
    "print(fac(10))"
   ]
  },
  {
   "cell_type": "code",
   "execution_count": 9,
   "metadata": {
    "collapsed": false
   },
   "outputs": [
    {
     "name": "stdout",
     "output_type": "stream",
     "text": [
      "102334155\n",
      "naive time: 35.83 sec\n"
     ]
    }
   ],
   "source": [
    "from time import time\n",
    "\n",
    "def naive_fib(n):\n",
    "    if n <= 2:\n",
    "        # init cond\n",
    "        # n == 1: 1, n == 2: 1\n",
    "        return 1\n",
    "    else:\n",
    "        # recursive hypothesis\n",
    "        # fib(n) = fib(n - 1) + fib(n - 2)\n",
    "        return naive_fib(n - 1) + naive_fib(n - 2)\n",
    "\n",
    "start = time()\n",
    "result = naive_fib(40)\n",
    "print(result)\n",
    "end = time()\n",
    "print('naive time: %.2lf sec' % (end - start))"
   ]
  },
  {
   "cell_type": "code",
   "execution_count": 10,
   "metadata": {
    "collapsed": false
   },
   "outputs": [
    {
     "name": "stdout",
     "output_type": "stream",
     "text": [
      "102334155\n",
      "dynamic time: 0.00 sec\n"
     ]
    }
   ],
   "source": [
    "from time import time\n",
    "'''\n",
    "input\n",
    "    - n: n\n",
    "    - re: update전 저장소\n",
    "output\n",
    "    - fib(n)\n",
    "    - re: fib(n) 을 저장한 저장소\n",
    "reservoir\n",
    "    - a dict whose\n",
    "        - key = n\n",
    "        - val = fib(n)\n",
    "'''\n",
    "\n",
    "def dynamic_fib(n, reservoir):\n",
    "    if n <= 2:\n",
    "        reservoir[n] = 1\n",
    "        return 1, reservoir\n",
    "    else:\n",
    "        # fib(n - 2)\n",
    "        if (n - 2) in reservoir:\n",
    "            fib_n_2 = reservoir[n - 2]\n",
    "        else:\n",
    "            fib_n_2, reservoir = dynamic_fib(n - 2, reservoir)\n",
    "\n",
    "        # fib(n - 1)\n",
    "        if (n - 1) in reservoir:\n",
    "            fib_n_1 = reservoir[n - 1]\n",
    "        else:\n",
    "            fib_n_1, reservoir = dynamic_fib(n - 1, reservoir)\n",
    "\n",
    "        # reservoir update\n",
    "        reservoir[n] = fib_n_1 + fib_n_2\n",
    "\n",
    "    return fib_n_2 + fib_n_1, reservoir\n",
    "\n",
    "start = time()\n",
    "# reservoir = {1: 1, 2: 1} # 이렇게 initial condition을 채운 채로 시작해도 됨\n",
    "reservoir = {}\n",
    "result, reservoir = dynamic_fib(40, reservoir)\n",
    "print(result)\n",
    "end = time()\n",
    "print('dynamic time: %.2lf sec' % (end - start))"
   ]
  },
  {
   "cell_type": "markdown",
   "metadata": {},
   "source": [
    "## Class\n",
    "- 용어\n",
    "\t- attributes\n",
    "\t\t- class 내장 데이터들\n",
    "\t- methods / functions\n",
    "\t\t- class 내장 함수들\n",
    "- 만드는 방법\n",
    "    ```\n",
    "    class 클래스 이름:\n",
    "\t\t# initializer\n",
    "\t\tdef __init__(self):\n",
    "\t\t\t# Attributes...\n",
    "\t\t\tself.*** = ***\n",
    "\t\t\t.....\n",
    "\n",
    "\t\t# function\n",
    "\t\tdef 함수이름(self, ...):\n",
    "\t\t\t어쩌고 저쩌고\n",
    "            self.attribute...\n",
    "\t\t\tself.함수....()\n",
    "    ```\n",
    "- 사용하는 방법\n",
    "    ```\n",
    "\tobject1 = 클래스 이름(..)\n",
    "\tobject1.함수(...)\n",
    "\tobject1.attribute(..)\n",
    "    ```"
   ]
  },
  {
   "cell_type": "code",
   "execution_count": 6,
   "metadata": {
    "collapsed": false
   },
   "outputs": [
    {
     "name": "stdout",
     "output_type": "stream",
     "text": [
      "name of mycat: Coco\n",
      "age of mycat: 0\n",
      "age of mycat: 1\n",
      "foods mycat had: {'Mango': 'Good'}\n",
      "{'Mango': 'Good', 'Apple': 'Amazing', 'Strawberry': 'Great'}\n"
     ]
    }
   ],
   "source": [
    "class cat:\n",
    "    def __init__(self, new_name):\n",
    "        # Atrributes\n",
    "        self.name = new_name\n",
    "        self.age = 0\n",
    "        self.food_brain = {}\n",
    "        \n",
    "    # Functions\n",
    "    def set_name(self, new_name):\n",
    "        self.name = new_name\n",
    "\n",
    "    def get_name(self):\n",
    "        return self.name\n",
    "\n",
    "    def cry(self):\n",
    "        print('Meow')\n",
    "\n",
    "    def eat(self, food_name, food_taste):\n",
    "        self.food_brain[food_name] = food_taste\n",
    "        self.age += 1\n",
    "\n",
    "    def eat_many_foods(self, food_lst, taste_lst):\n",
    "        '''\n",
    "        # version 1\n",
    "        for i in range(len(food_lst)):\n",
    "            self.food_brain[food_lst[i]] = taste_lst[i]\n",
    "        '''\n",
    "        '''\n",
    "        # version 2\n",
    "        for food, taste in zip(food_lst, taste_lst):\n",
    "            self.food_brain[food] = taste\n",
    "        '''\n",
    "        # version 3\n",
    "        for food, taste in zip(food_lst, taste_lst):\n",
    "            self.eat(food, taste)\n",
    "\n",
    "mycat = cat('Coooocoooo')\n",
    "mycat.set_name('Coco')\n",
    "print('name of mycat: %s' % mycat.name)\n",
    "print('age of mycat: %d' % mycat.age)\n",
    "mycat.eat('Mango', 'Good')\n",
    "print('age of mycat: %d' % mycat.age)\n",
    "print('foods mycat had:', mycat.food_brain)\n",
    "mycat.eat_many_foods(['Apple', 'Strawberry'], ['Amazing', 'Great'])\n",
    "print(mycat.food_brain)"
   ]
  },
  {
   "cell_type": "markdown",
   "metadata": {},
   "source": [
    "## 자료 구조\n",
    "- Stack \\*\n",
    "\t- first in, last out\n",
    "\t- last in, first out\n",
    "\t- 예제) ctrl + z / 인터넷 페이지 / 함수 call stack\n",
    "\t- 함수\n",
    "\t\t- push(v)\n",
    "\t\t- pop() \n",
    "\t\t\t- latest를 stack에서 삭제\n",
    "\t\t\t- return lastest\n",
    "- Queue \\*\n",
    "\t- first in, first out\n",
    "\t- 예제) 줄서기, core의 Load control \n",
    "\t- 함수\n",
    "\t\t- enqueue(v)\n",
    "\t\t- dequeue()\n",
    "\t\t\t- first 를 queue에서 삭제\n",
    "\t\t\t- return first\n",
    "- Linked list \\*\\*\n",
    "\t- 큰 파일 저장할 때\n",
    "- Tree \\*\\*\\*\\*\n",
    "\t- 상하 관계가 뚜렷한 graph\n",
    "\t\t- parent, children\n",
    "\t- 예) sorting 을 통한 검색 시스템, 차일드 프로세스 관리할때도?\n",
    "- Graph \n",
    "\t- Node, Edge\n",
    "- Hash Table \\*\\*\\*\\*\\*\n",
    "    - dictionary"
   ]
  }
 ],
 "metadata": {
  "anaconda-cloud": {},
  "kernelspec": {
   "display_name": "Python [conda root]",
   "language": "python",
   "name": "conda-root-py"
  },
  "language_info": {
   "codemirror_mode": {
    "name": "ipython",
    "version": 3
   },
   "file_extension": ".py",
   "mimetype": "text/x-python",
   "name": "python",
   "nbconvert_exporter": "python",
   "pygments_lexer": "ipython3",
   "version": "3.5.2"
  }
 },
 "nbformat": 4,
 "nbformat_minor": 2
}
