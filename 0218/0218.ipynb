{
 "cells": [
  {
   "cell_type": "markdown",
   "metadata": {},
   "source": [
    "## Overview\n",
    "- HTML\n",
    "- Crawling\n",
    "- Shell\n",
    "- Git\n",
    "- Jupyter notebook"
   ]
  },
  {
   "cell_type": "markdown",
   "metadata": {
    "collapsed": true
   },
   "source": [
    "## HTML\n",
    "- 구성 요소\n",
    "\t+ Element\n",
    "\t\t- html에서 시작 tag와 종료 tag로 묶인 명령어들\n",
    "\t+ Tag\n",
    "\t\t- Element의 시작과 끝을 알림.\n",
    "\t\t- 시작 tag\n",
    "\t\t- 종료 tag\n",
    "\t+ Attributes\n",
    "\t\t- Elements의 속성 옵션\n",
    "\t\t- 색을 지정하거나.. 등등 다양한 옵션을 줄 수 있음.\n",
    "\t+ Arguments\n",
    "\t\t- Attributes의 옵션 인풋 값\n",
    "- ex) `<p align=\"center\"> ... </p>` 에서\n",
    "\t+ `<p align=\"center\"> ... </p>` : Elements\n",
    "\t+ `<p align=\"center\">` : 시작 tag\n",
    "\t+ `</p>` : 종료 tag\n",
    "\t+ `align` : attributes\n",
    "\t+ `argument`: \"center\""
   ]
  },
  {
   "cell_type": "markdown",
   "metadata": {},
   "source": [
    "## Crawling\n",
    "- html 소스 가져오기\n",
    "\t- requests 라는 라이브러리 사용\n",
    "\t```\n",
    "\timport requests\n",
    "\treq = requests.get('웹 주소')\n",
    "\thtml_text = req.text\n",
    "\tstatus = req.status_code # 200: 정상\n",
    "\t```\n",
    "- html 소스 파싱하기\n",
    "\t- Parsing: raw data를 내가 원하는 모양으로 가공하기\n",
    "\t- BeautifulSoup 이라는 라이브러리 사용\n",
    "\t\t```\n",
    "\t\tfrom bs4 import BeautifulSoup\n",
    "\t\t'''\n",
    "\t\tsoup: a parser whose\n",
    "\t\t\t- input1: html text\n",
    "\t\t\t- input2: html parser를 사용한다는 뜻.\n",
    "\t\t'''\n",
    "\t\tsoup = BeautifulSoup(html_text, 'html.parser')\n",
    "\t\t```\n",
    "\t- 원하는 정보의 태그 정보 얻기\n",
    "\t\t+ Chrome 의 검사 도구 사용!\n",
    "\t\t+ 순서\n",
    "\t\t\t- Chrome 켜기\n",
    "\t\t\t- 원하는 웹사이트 방문\n",
    "\t\t\t- 원하는 텍스트 위치에서 마우스 오른쪽 > 검사 클릭\n",
    "\t\t\t- 우측 하이라이트 된 element에서 마우스 오른쪽 > Copy > Copy selector 클릭\n",
    "\t\t\t- 아무데나 붙여넣기 해봄\n",
    "\t\t\t\t- ex) #content > table > tbody > tr:nth-child(2) > td.title > a\n",
    "\t\t\t\t- 위에서 nth-child(2) 는 그냥 어떤 것의 2번째 child라는 뜻. 리스트의 두번째라서 저렇게 나온 것일 듯. 신경 쓰지 X\n",
    "\t\t\t- 원하는 태그 정보 추출!\n",
    "\t\t\t\t- ex) table > tbody > tr > td.title > a\n",
    "\t- 태그를 통해 원하는 텍스트들 추출\n",
    "\t\t+ elements 리스트 얻음\n",
    "\t\t\t- ex) \n",
    "\t\t\t\t```\n",
    "\t\t\t\twebtoon_titles = soup.select('tr > td.title > a')\n",
    "\t\t\t\t```\n",
    "\t\t\t- ```\n",
    "              >>> webtoon_titles[0]\n",
    "              <a href=\"/webtoon/detail.nhn?titleId=650305&amp;no=146&amp;weekday=sat\" onclick=\"clickcr(this,'lst.title','650305','146',event)\">2부63화 복수2</a>\n",
    "              \n",
    "              >>> webtoon_titles[0].text\n",
    "              '2부63화 복수2'\n",
    "              ```\n",
    "              "
   ]
  },
  {
   "cell_type": "markdown",
   "metadata": {},
   "source": [
    "## shell\n",
    "- ls\n",
    "\t- list\n",
    "    - 현재 경로의 모든 파일리스트를 출력\n",
    "- pwd\n",
    "\t- 현재 경로 출력\n",
    "- cd\n",
    "\t- cd 내가 원하는 경로\n",
    "\t\t- ./desktop\n",
    "- cp\n",
    "\t- cp from to\n",
    "- mv\n",
    "\t- mv from to\n",
    "\t- 이름 변경도 가능\n",
    "- mkdir\n",
    "\t- make directory\n",
    "\t- mkdir 이름/경로\n",
    "- etc\n",
    "\t- linux command\n",
    "\t- 리눅스 커맨드"
   ]
  },
  {
   "cell_type": "markdown",
   "metadata": {},
   "source": [
    "## Git\n",
    "- why git?\n",
    "\t- 버전 관리 편리\n",
    "\t- 협업 편리\n",
    "- git 어쩌고저쩌고\n",
    "- 레포지토리랑 로컬 연결\n",
    "\t- git clone 주소\n",
    "- 업로드\n",
    "\t- git add\n",
    "\t\t+ 변동사항을 git이 tracking하게 만듦\n",
    "\t- git commit -m \"screenshot 설명\"\n",
    "\t\t+ 스크린샷 찍고\n",
    "\t- git push\n",
    "- 정보 가져오기\n",
    "\t- git pull\n",
    "- git status\n"
   ]
  },
  {
   "cell_type": "markdown",
   "metadata": {},
   "source": [
    "## Jupyter\n",
    "- IDE\n",
    "- cell이 메모리를 공유\n",
    "- cell 타입이 여러 개\n",
    "\t- code\n",
    "\t- markdown\n",
    "\t- text\n",
    "- 단축키\n",
    "\t- shift + 엔터 : 실행\n",
    "\t- aa : 현재 cell 위에 cell 추가\n",
    "\t- bb : 현재 cell 아래에 cell 추가\n",
    "\t- dd : delete the current cell\n",
    "- ctrl + c 로 꺼줘야 함!!!! "
   ]
  },
  {
   "cell_type": "code",
   "execution_count": null,
   "metadata": {
    "collapsed": true
   },
   "outputs": [],
   "source": []
  }
 ],
 "metadata": {
  "anaconda-cloud": {},
  "kernelspec": {
   "display_name": "Python [default]",
   "language": "python",
   "name": "python3"
  },
  "language_info": {
   "codemirror_mode": {
    "name": "ipython",
    "version": 3
   },
   "file_extension": ".py",
   "mimetype": "text/x-python",
   "name": "python",
   "nbconvert_exporter": "python",
   "pygments_lexer": "ipython3",
   "version": "3.5.2"
  }
 },
 "nbformat": 4,
 "nbformat_minor": 2
}
