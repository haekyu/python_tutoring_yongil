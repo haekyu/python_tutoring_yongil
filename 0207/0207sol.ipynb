{
 "cells": [
  {
   "cell_type": "markdown",
   "metadata": {},
   "source": [
    "## 1. List 연습\n",
    "\n",
    "- 리스트 [1, 2, 3, 4, 5] 만들기.\n",
    "- 다음 `<start>`, `<end>`, 그리고 `<do>` 안을 채워서 위의 리스트를 만들어보세요.\n",
    "\n",
    "```\n",
    "lst = list()\n",
    "for i in range(<start>, <end>):\n",
    "    <do>\n",
    "```\n",
    "\t\n",
    "- 힌트1) 어떤 list의 맨 마지막에 어떤 원소를 덧붙이고 싶을 때 append라는 함수를 사용할 수 있습니다. \n",
    "\t- 예를 들어, lll이라는 리스트에 0 을 append 한다고 해 봅시다.\n",
    "\t\t```\n",
    "\t\tlll = [3, 2, 1]\n",
    "\t\tlll.append(0)\n",
    "\t\t```\n",
    "\t- 을 하게 되면 `lll`은 `[3, 2, 1, 0]` 이 됩니다.\n",
    "\t"
   ]
  },
  {
   "cell_type": "code",
   "execution_count": 2,
   "metadata": {
    "collapsed": false
   },
   "outputs": [
    {
     "name": "stdout",
     "output_type": "stream",
     "text": [
      "[1, 2, 3, 4, 5]\n"
     ]
    }
   ],
   "source": [
    "lst = list()\n",
    "for i in range(1, 6):\n",
    "    lst.append(i)\n",
    "print(lst)"
   ]
  },
  {
   "cell_type": "markdown",
   "metadata": {},
   "source": [
    "## 2. List 연습 2\n",
    "\n",
    "- list 내 최대값 구하기. \n",
    "- `lst = [2, 3, 6, 2, -1, 0, 6, 2, 3]` 이 주어져 있을 때 최대값인 6을 출력해보세요.\n",
    "- 힌트1) 간단하게 `max(lst)` 로도 구할 수 있지만, `max()`를 쓰지 않고 loop로 해결해 보세요.\n",
    "- 힌트2) skeleton code를 이용해도 좋습니다. ??? 을 채워 넣으면 됩니다.\n",
    "\n",
    "```\n",
    "# Target list\n",
    "lst = [2, 3, 6, 2, -1, 0, 6, 2, 3]\n",
    "\n",
    "# Initialize max_val\n",
    "max_val = -999\n",
    "\n",
    "# Get the maximum value in lst\n",
    "for e in lst:\n",
    "    # Get the temporal max_val\n",
    "    if max_val ??? e:\n",
    "        # max_val is no longer the maximum value\n",
    "        # e should be the new maximum value\n",
    "        ???\n",
    "\n",
    "print(max_val)\n",
    "```"
   ]
  },
  {
   "cell_type": "code",
   "execution_count": 3,
   "metadata": {
    "collapsed": false
   },
   "outputs": [
    {
     "name": "stdout",
     "output_type": "stream",
     "text": [
      "6\n"
     ]
    }
   ],
   "source": [
    "# Target list\n",
    "lst = [2, 3, 6, 2, -1, 0, 6, 2, 3]\n",
    "\n",
    "# Initialize max_val\n",
    "max_val = -999\n",
    "\n",
    "# Get the maximum value in lst\n",
    "for e in lst:\n",
    "    # Get the temporal max_val\n",
    "    if max_val < e:\n",
    "        # max_val is no longer the maximum value\n",
    "        # e should be the new maximum value\n",
    "        max_val = e\n",
    "\n",
    "print(max_val)"
   ]
  },
  {
   "cell_type": "markdown",
   "metadata": {},
   "source": [
    "## 3. Loop 문 연습\n",
    "- 2부터 100까지 자연수 중에 소수 (prime number) 인 것들의 list를 만들어 보세요.\n",
    "- 즉, `output = [2, 3, 5, ..., 97]` 이면 됩니다.\n",
    "- 힌트1) 어떤 자연수 n이 소수인지 판단하려면?<br>\n",
    "\t'n보다 작은 수 중에서 n을 나누어 떨어지게 하는 것이 있는지 없는지' 를 보면 됩니다."
   ]
  },
  {
   "cell_type": "code",
   "execution_count": 5,
   "metadata": {
    "collapsed": false
   },
   "outputs": [
    {
     "name": "stdout",
     "output_type": "stream",
     "text": [
      "[2, 3, 5, 7, 11, 13, 17, 19, 23, 29, 31, 37, 41, 43, 47, 53, 59, 61, 67, 71, 73, 79, 83, 89, 97]\n"
     ]
    }
   ],
   "source": [
    "def is_prime(n):\n",
    "    for i in range(2, n):\n",
    "        # 만약 n을 나누어떨어지게 하는 정수 i가 존재한다면\n",
    "        if n % i == 0:\n",
    "            # n은 prime number가 아니다.\n",
    "           return False\n",
    "    \n",
    "    # n 을 나누어떨어지게 하는 정수 i가 없었다면\n",
    "    # n 은 prime number 이다.\n",
    "    return True\n",
    "    \n",
    "output = []\n",
    "for n in range(2, 101):\n",
    "    if is_prime(n):\n",
    "       output.append(n)\n",
    "    \n",
    "print(output)"
   ]
  },
  {
   "cell_type": "markdown",
   "metadata": {},
   "source": [
    "## 4. String 연습 1\n",
    "- 스트링으로 된 문장 내부에 특정 word가 몇 번 포함되는지 찾기.\n",
    "- 예를 들어, sss 와 같은 문장이 주어져 있고, 'an' 이라는 단어가 sss 내부에 몇 번 나타나는지 찾기.\n",
    "    - `sss = 'Love is an open door! Love is an open door! Life can be so much more!'`<br>\n",
    "  일 때, `an` 이 두 개 있으니 2를 프린트하게 해 보세요.\n",
    "- str을 ' ' (띄어쓰기) 기준으로 잘라 list에 보관할 수 있습니다.\n",
    "    + 예) `lst = sss.split(' ') 을 하게 되면`<br>\n",
    "\t\t`lst` 는 `['Love', 'is', 'an', ...]` 이 됩니다.\n",
    "- 아래의 skeleton code를 사용해도 됩니다.\n",
    "    ```\n",
    "    sss = 'Love is an open door! Love is an open door! Life can be so much more!'\n",
    "    lst = sss.split(' ')\n",
    "\n",
    "    idx = 0 # lst의 index 라는 뜻\n",
    "    num = 0 # 'an'의 개수라는 뜻\n",
    "    while ???:\n",
    "        if ???:\n",
    "            num = num + 1\n",
    "        idx = idx + 1\n",
    "    print(num)\n",
    "    ```\n"
   ]
  },
  {
   "cell_type": "code",
   "execution_count": 7,
   "metadata": {
    "collapsed": false
   },
   "outputs": [
    {
     "name": "stdout",
     "output_type": "stream",
     "text": [
      "2\n"
     ]
    }
   ],
   "source": [
    "sss = 'Love is an open door! Love is an open door! Life can be so much more!'\n",
    "lst = sss.split(' ')\n",
    "\n",
    "idx = 0 # lst의 index 라는 뜻\n",
    "num = 0 # 'an'의 개수라는 뜻\n",
    "while idx < len(lst):\n",
    "  if 'an' == lst[idx]:\n",
    "      num = num + 1\n",
    "  idx = idx + 1\n",
    "print(num)"
   ]
  },
  {
   "cell_type": "markdown",
   "metadata": {},
   "source": [
    "## 5. String 연습 2\n",
    "- 스트링으로 된 문장 내부에 특정 문구가 몇 번 포함되는지 찾기.\n",
    "- 예를 들어, sss 와 같은 문장이 주어져 있고, 'an' 이라는 패턴이 sss 내부에 몇 번 나타나는지 찾기.\n",
    "    - sss = 'Love is an open door! Love is an open door! Life can be so much more!'<br>\n",
    "  일 때, an 이 세 번 나타나고 있으니 3을 프린트하게 해 보세요.<br>\n",
    "    - 세 번의 an 은 아래와 같이 검색됩니다. <br>\n",
    "\tLove is ``an`` open door!<br>\n",
    "\tLove is ``an`` open door!<br>\n",
    "\tLife c``an`` be so much more!<br>\n",
    "\t"
   ]
  },
  {
   "cell_type": "code",
   "execution_count": 8,
   "metadata": {
    "collapsed": false
   },
   "outputs": [
    {
     "name": "stdout",
     "output_type": "stream",
     "text": [
      "3\n"
     ]
    }
   ],
   "source": [
    "sss = 'Love is an open door! Love is an open door! Life can be so much more!'\n",
    "lst = sss.split(' ')\n",
    "\n",
    "idx = 0 # lst의 index 라는 뜻\n",
    "num = 0 # 'an'의 개수라는 뜻\n",
    "while idx < len(lst):\n",
    "  if 'an' in lst[idx]:\n",
    "      num = num + 1\n",
    "  idx = idx + 1\n",
    "print(num)"
   ]
  },
  {
   "cell_type": "markdown",
   "metadata": {},
   "source": [
    "## 6. Bubble sort 짜기\n",
    "- input: unsorted list\n",
    "- output: sorted list\n",
    "\n",
    "아래 skeleton code를 사용해도 됩니다.\n",
    "```\n",
    "def bubble_sort(lst):\n",
    "    for rnd in range(0, len(lst)):\n",
    "        # rnd: round\n",
    "        # lst[len(lst) - rnd: len(lst)] 부분을 sorted 로 만드는 것이 목표.\n",
    "        # 이 때, lst[len(lst) - rnd] 에 현재 round의 최대값을 넣는 것이 목표.\n",
    "        \n",
    "        for j in range(0, ???):\n",
    "            # lst[j]는 현재 window의 왼쪽 값 (가장 앞의 값)을 의미한다.            \n",
    "            if lst[j] > lst[j + 1]:\n",
    "                # Swap lst[j] and lst[j + 1]\n",
    "                ????\n",
    "    return lst\n",
    "```"
   ]
  },
  {
   "cell_type": "code",
   "execution_count": 9,
   "metadata": {
    "collapsed": false
   },
   "outputs": [
    {
     "name": "stdout",
     "output_type": "stream",
     "text": [
      "[0, 1, 1, 2, 2, 3, 5, 6]\n"
     ]
    }
   ],
   "source": [
    "def bubble_sort(lst):\n",
    "    for rnd in range(0, len(lst)):\n",
    "        # rnd: round\n",
    "        # lst[len(lst) - rnd: len(lst)] 부분을 sorted 로 만드는 것이 목표.\n",
    "        # 이 때, lst[len(lst) - rnd] 에 현재 round의 최대값을 넣는 것이 목표.\n",
    "\n",
    "        for j in range(0, len(lst) - 1):\n",
    "            # lst[j]는 현재 window의 왼쪽 값 (가장 앞의 값)을 의미한다.            \n",
    "            if lst[j] > lst[j + 1]:\n",
    "                # Swap lst[j] and lst[j + 1]\n",
    "                lst_j = lst[j]\n",
    "                lst[j] = lst[j + 1]\n",
    "                lst[j + 1] = lst_j\n",
    "    return lst\n",
    "\n",
    "lst = [5, 1, 2, 6, 2, 1, 3, 0]\n",
    "sorted_lst = bubble_sort(lst)\n",
    "print(sorted_lst)"
   ]
  },
  {
   "cell_type": "code",
   "execution_count": null,
   "metadata": {
    "collapsed": true
   },
   "outputs": [],
   "source": []
  }
 ],
 "metadata": {
  "anaconda-cloud": {},
  "kernelspec": {
   "display_name": "Python [conda root]",
   "language": "python",
   "name": "conda-root-py"
  },
  "language_info": {
   "codemirror_mode": {
    "name": "ipython",
    "version": 3
   },
   "file_extension": ".py",
   "mimetype": "text/x-python",
   "name": "python",
   "nbconvert_exporter": "python",
   "pygments_lexer": "ipython3",
   "version": "3.5.2"
  }
 },
 "nbformat": 4,
 "nbformat_minor": 2
}
