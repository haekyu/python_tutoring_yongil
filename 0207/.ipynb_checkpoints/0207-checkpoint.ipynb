{
 "cells": [
  {
   "cell_type": "markdown",
   "metadata": {},
   "source": [
    "## Overview\n",
    "- 복습 / 지난시간 추가 내용\n",
    "- Array\n",
    "- Dictionary\n",
    "- 파일 읽기 / 쓰기"
   ]
  },
  {
   "cell_type": "markdown",
   "metadata": {},
   "source": [
    "***\n",
    "## 1. 복습 / 지난시간 추가 내용\n",
    "\n",
    "### List\n",
    "- List 는 series data type!\n",
    "- List 의 연산 / 관련 함수\n",
    "    - append\n",
    "        + 끝에 원소 하나를 덧붙이기\n",
    "        ```\n",
    "        >>> lst = [1, 2, 3,4]\n",
    "        >>> lst.append(0)\n",
    "        >>> lst\n",
    "        [1, 2, 3, 4, 0]\n",
    "        ```\n",
    "    - +\n",
    "        - concatenate, 붙이기\n",
    "        - 두 리스트를 붙인다.\n",
    "        - ex)\n",
    "            ```\n",
    "            >>> lst1 = [3, 4, 5, 6]\n",
    "            >>> lst2 = [3, 4, 5, 6]\n",
    "            >>> lst3 = lst1 + lst2\n",
    "            >>> lst3\n",
    "            [3, 4, 5, 6, 3, 4, 5, 6]\n",
    "            ```\n",
    "    - \\*\n",
    "        - multiply, 반복하기\n",
    "        - 어떤 리스트를 여러 번 붙인다.\n",
    "        - ex)\n",
    "            ```\n",
    "            >>> lst = [3, 4, 5, 6]\n",
    "            >>> lst2 = lst * 2\n",
    "            >>> lst2\n",
    "            [3, 4, 5, 6, 3, 4, 5, 6]\n",
    "            ```\n",
    "    - len( )\n",
    "        - list의 길이 리턴\n",
    "        - ex)\n",
    "            ```\n",
    "            >>> lst = [3, 4, 5, 6]\n",
    "            >>> len(lst)\n",
    "            4\n",
    "            ```\n",
    "    - indexing\n",
    "        - input: index\n",
    "        - output: index 번째의 원소\n",
    "        - ex)\n",
    "            ```\n",
    "            >>> lst = [3, 4, 5, 6]\n",
    "            >>> lst[-1]\n",
    "            6\n",
    "            ```\n",
    "    - slicing\n",
    "        - input: index의 범위\n",
    "            - 범위는 [from 이상: to 미만] 형식으로 준다\n",
    "        - output: input 범위에 해당하는 원소들\n",
    "        - ex)\n",
    "            ```\n",
    "            >>> lst1 = [3, 4, 5, 6]\n",
    "            >>> lst1[0:2] \n",
    "            [3, 4]\n",
    "            >>> lst1[0:]\n",
    "            [3, 4, 5, 6]\n",
    "            >>> lst1[:2]\n",
    "            [3, 4]\n",
    "            >>> lst1[-3: -1]\n",
    "            [4, 5]\n",
    "            >>> lst1[-3:]\n",
    "            [4, 5, 6]\n",
    "            >>> lst1[ : -1]\n",
    "            [3, 4, 5]\n",
    "            >>> lst1[:]\n",
    "            [3, 4, 5, 6]\n",
    "            ```\n",
    " \n",
    "### For\n",
    "- zip\n",
    "    - 여러 개의 sequence를 동시에 병렬적으로 iteration 돌고 싶을 때 사용\n",
    "    - 사용법\n",
    "        - zip안에 sequence 여러 개 묶어 사용\n",
    "        - iterator 도 여러개 사용"
   ]
  },
  {
   "cell_type": "code",
   "execution_count": 1,
   "metadata": {
    "collapsed": false
   },
   "outputs": [
    {
     "name": "stdout",
     "output_type": "stream",
     "text": [
      "철수 0 0\n",
      "영희 13 160\n",
      "영수 5 50\n"
     ]
    }
   ],
   "source": [
    "names = ['철수', '영희', '영수']\n",
    "ages = [0, 13, 5]\n",
    "heights = [0, 160, 50]\n",
    "\n",
    "for n, a, h in zip(names, ages, heights):\n",
    "    print(n, a, h)"
   ]
  },
  {
   "cell_type": "markdown",
   "metadata": {},
   "source": [
    "- enumerate\n",
    "    - iteration 돎과 동시에 몇 번째 iteration인지도 알고 싶을 때 사용\n",
    "    - 사용법\n",
    "        - sequence 에 enumerate를 씌움\n",
    "        - iterator 앞에 iteration 번째를 나타내기 위한 변수도 추가"
   ]
  },
  {
   "cell_type": "code",
   "execution_count": 2,
   "metadata": {
    "collapsed": false
   },
   "outputs": [
    {
     "name": "stdout",
     "output_type": "stream",
     "text": [
      "0-th element: a\n",
      "1-th element: b\n",
      "2-th element: c\n"
     ]
    }
   ],
   "source": [
    "lst = [\"a\", \"b\", \"c\"]\n",
    "for th, e in enumerate(lst):\n",
    "    print('%d-th element: %s' % (th, e))"
   ]
  },
  {
   "cell_type": "markdown",
   "metadata": {},
   "source": [
    "### String format\n",
    "- string 만드는 규칙\n",
    "- int\n",
    "    - %3d\n",
    "        - space 채운 상태로 3자리 정수\n",
    "    - %03d\n",
    "        - 003, 100, 875, 076\n",
    "- float\n",
    "    - %lf\n",
    "    - %.3lf\n",
    "        - 3.400, 3.123\n",
    "- srting\n",
    "    - %s\n",
    "- bool\n",
    "    - %r"
   ]
  },
  {
   "cell_type": "markdown",
   "metadata": {},
   "source": [
    "### String split\n",
    "- split() 함수를 이용하면 string을 delimiter 기준으로 나누어 list로 저장할 수 있다.\n",
    "- 각 나누어진 조각을 token이라고 부르기도 한다. split()을 tokenizer 라고 부를 수도 있다.\n",
    "- `lst = split(delimeter)` 로 사용\n",
    "    - delimeter는 white space가 default\n",
    "    - 즉, 아무 delimeter도 안주면 '\\n' (엔터), '\\t' (탭), ' ' (띄어쓰기), ... 등등을 모두 separator로 생각한다."
   ]
  },
  {
   "cell_type": "code",
   "execution_count": 3,
   "metadata": {
    "collapsed": false
   },
   "outputs": [
    {
     "name": "stdout",
     "output_type": "stream",
     "text": [
      "['aa', 'bbbbbbbb', '', 'c', '', '', '', '', 'd', 'e']\n",
      "['aa', 'bbbbbbbb', 'c', 'd', 'e']\n"
     ]
    }
   ],
   "source": [
    "sss = \"aa bbbbbbbb  c     d e\"\n",
    "lst = sss.split(\" \")\n",
    "print(lst)\n",
    "\n",
    "lst2 = sss.split()\n",
    "print(lst2)"
   ]
  },
  {
   "cell_type": "markdown",
   "metadata": {},
   "source": [
    "***\n",
    "## 2. Array\n",
    "+ 수치적인 series data!\n",
    "    - list는 그냥 숫자든 뭐든 element의 나열일 뿐\n",
    "    - array는 숫자 나열체를 하나의 수치적 객체로 생각!\n",
    "        - ex) `v1 = np.array([1, 2, 3, 4])` 가 주어졌을 때\n",
    "        - `v1`은 4차원 벡터임. 1, 2, 3, 4의 나열 그 이상의 의미임!\n",
    "+ numpy 사용해야 함\n",
    "    - `import numpy as np` 를 가장 처음 해줘야 함.\n",
    "    - 위 말은 `numpy package`를 import 해와서 `np`로 부르겠다는 의미.\n",
    "+ array 만들기\n",
    "    - 모체가 되는 list를 넣어주면 됨.\n",
    "        - `np.array(모체 list)`"
   ]
  },
  {
   "cell_type": "code",
   "execution_count": 11,
   "metadata": {
    "collapsed": false
   },
   "outputs": [
    {
     "name": "stdout",
     "output_type": "stream",
     "text": [
      "List vs. Array\n",
      "List는 뭔가 잘 안됨: [3, 2, 0]\n",
      "Array는 잘 됨: [3 6]\n",
      "----------\n",
      "Array 예제1: inner product\n",
      "30\n",
      "----------\n",
      "Array 예제 2: vector 더하기\n",
      "[2 4 6 8]\n",
      "----------\n",
      "Array 예제 3: matrix 곱하기\n",
      "[[21 10  2]\n",
      " [28 17  2]\n",
      " [ 0 -2  1]]\n"
     ]
    }
   ],
   "source": [
    "import numpy as np\n",
    "\n",
    "print('List vs. Array')\n",
    "M_lst = [[3, 2, 0], [6, 2, 1], [-2, 1, 0]]\n",
    "M_arr = np.array([[3, 2, 0], [6, 2, 1], [-2, 1, 0]])\n",
    "\n",
    "print('List는 뭔가 잘 안됨:', M_lst[0:2][0])\n",
    "print('Array는 잘 됨:', M_arr[0:2, 0])\n",
    "\n",
    "print('-' * 10)\n",
    "print('Array 예제1: inner product')\n",
    "arr = np.array([1, 2, 3, 4])\n",
    "arr2 = np.array([1, 2, 3, 4])\n",
    "inner_product = arr.dot(arr2)\n",
    "print(inner_product)\n",
    "\n",
    "print('-' * 10)\n",
    "print('Array 예제 2: vector 더하기')\n",
    "arr = np.array([1, 2, 3, 4])\n",
    "arr2 = np.array([1, 2, 3, 4])\n",
    "print(arr + arr2)\n",
    "\n",
    "print('-' * 10)\n",
    "print('Array 예제 3: matrix 곱하기')\n",
    "print(np.matmul(M_arr, M_arr))"
   ]
  },
  {
   "cell_type": "markdown",
   "metadata": {},
   "source": [
    "## 3. Dictionary\n",
    "- 빠른 검색을 위한 자료구조\n",
    "- key와 value의 맵핑을 저장한 table\n",
    "- 검색이 빠름\n",
    "- Empty dictionary 만들기\n",
    "    - {}\n",
    "    - dict()\n",
    "- mapping 추가하기\n",
    "    - `dict[key] = val`\n",
    "- 검색하기\n",
    "    - key를 던져주면 val이 나옴\n",
    "    - `dict[key]` 하면 `val`이 나옴\n",
    "+ membership\n",
    "    - in / not in\n",
    "    - key in / not in dict\n",
    "    - key in / not in dict.keys()\n",
    "    - val in / not in dict.values()"
   ]
  },
  {
   "cell_type": "code",
   "execution_count": 12,
   "metadata": {
    "collapsed": false
   },
   "outputs": [
    {
     "name": "stdout",
     "output_type": "stream",
     "text": [
      "{'orange': 'orange', 'mango': 'yellow', 'apple': 'red', 'strawberry': 'red'}\n",
      "red\n",
      "dict_keys(['orange', 'mango', 'apple', 'strawberry'])\n",
      "dict_values(['orange', 'yellow', 'red', 'red'])\n",
      "True\n"
     ]
    }
   ],
   "source": [
    "fruit_color_table = {}\n",
    "fruit_color_table = dict()\n",
    "\n",
    "# fruit_color_table['key'] = 'val'\n",
    "fruit_color_table['apple'] = 'red'\n",
    "fruit_color_table['orange'] = 'orange'\n",
    "fruit_color_table['mango'] = 'yellow'\n",
    "fruit_color_table['strawberry'] = 'red'\n",
    "\n",
    "print(fruit_color_table)\n",
    "print(fruit_color_table['apple'])\n",
    "print(fruit_color_table.keys())\n",
    "print(fruit_color_table.values())\n",
    "print('red' in fruit_color_table.values())"
   ]
  },
  {
   "cell_type": "markdown",
   "metadata": {},
   "source": [
    "### 4. 파일 읽기 / 쓰기\n",
    "- 기본1\n",
    "    - 파일 객체를 통해\n",
    "    - f = open(파일이름, 모드)\n",
    "        - 파일 이름에는 절대경로/상대경로 모두 가능\n",
    "        - 모드\n",
    "            - 'r': read\n",
    "            - 'w': write\n",
    "            - 'a': append\n",
    "    - 반드시 마지막에 close() 해주어야 함!\n"
   ]
  },
  {
   "cell_type": "code",
   "execution_count": 16,
   "metadata": {
    "collapsed": false
   },
   "outputs": [
    {
     "name": "stdout",
     "output_type": "stream",
     "text": [
      "['\\ufeff철수,0,0\\n', '영희,13,160\\n', '영수,5,50']\n"
     ]
    }
   ],
   "source": [
    "# 파일 읽기 예제\n",
    "f = open('./sample.csv', 'r')\n",
    "lines = f.readlines()\n",
    "f.close()\n",
    "print(lines)"
   ]
  },
  {
   "cell_type": "code",
   "execution_count": 17,
   "metadata": {
    "collapsed": true
   },
   "outputs": [],
   "source": [
    "# 파일 쓰기 예제\n",
    "f = open('./sample_result.csv', 'w')\n",
    "f.write('어쩌고\\n')\n",
    "f.write('저쩌고\\n')\n",
    "f.write('저쩌고\\n')\n",
    "f.close()"
   ]
  },
  {
   "cell_type": "markdown",
   "metadata": {},
   "source": [
    "- pandas 사용\n",
    "    - `import pandas as pd`\n",
    "    - 컬럼별로 읽는 느낌\n",
    "    "
   ]
  },
  {
   "cell_type": "code",
   "execution_count": 18,
   "metadata": {
    "collapsed": false
   },
   "outputs": [
    {
     "name": "stdout",
     "output_type": "stream",
     "text": [
      "철수 0 0\n",
      "영희 13 160\n",
      "영수 5 50\n"
     ]
    }
   ],
   "source": [
    "import pandas as pd\n",
    "\n",
    "df = pd.read_csv('./sample.csv', sep=',', names=['이름', '나이', '키'])\n",
    "\n",
    "for n, a, h in zip(df['이름'], df['나이'], df['키']):\n",
    "\tprint(n, a, h)"
   ]
  },
  {
   "cell_type": "markdown",
   "metadata": {},
   "source": [
    "- numpy 사용\n",
    "    - `import numpy as np`\n",
    "    - 읽기\n",
    "        - 벡터나 행렬을 한꺼번에 읽어서 array로 리턴\n",
    "        - loadtxt 사용\n",
    "        - `arr = np.loadtxt(파일이름, delimiter=....)`\n",
    "    - 쓰기\n",
    "        - array를 한꺼번에 저장\n",
    "        - savetxt 사용\n",
    "        - `np.savetxt(파일이름, 저장할 array, delimiter=..., fmt='%.3lf'등 원하는 포맷)`"
   ]
  },
  {
   "cell_type": "code",
   "execution_count": 19,
   "metadata": {
    "collapsed": false
   },
   "outputs": [
    {
     "name": "stdout",
     "output_type": "stream",
     "text": [
      "[[ 3.  1.  2.]\n",
      " [ 1.  0.  0.]]\n"
     ]
    }
   ],
   "source": [
    "import numpy as np\n",
    "\n",
    "arr = np.loadtxt('./mat.txt', delimiter=',')\n",
    "print(arr)\n",
    "\n",
    "arr2 = np.matmul(arr, arr.T)\n",
    "np.savetxt('./resultmat.tsv', arr2, delimiter='\\t', fmt='%.3lf')"
   ]
  }
 ],
 "metadata": {
  "anaconda-cloud": {},
  "kernelspec": {
   "display_name": "Python [conda root]",
   "language": "python",
   "name": "conda-root-py"
  },
  "language_info": {
   "codemirror_mode": {
    "name": "ipython",
    "version": 3
   },
   "file_extension": ".py",
   "mimetype": "text/x-python",
   "name": "python",
   "nbconvert_exporter": "python",
   "pygments_lexer": "ipython3",
   "version": "3.5.2"
  }
 },
 "nbformat": 4,
 "nbformat_minor": 2
}
